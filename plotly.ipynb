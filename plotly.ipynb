{
 "cells": [
  {
   "cell_type": "code",
   "execution_count": 71,
   "metadata": {
    "collapsed": true
   },
   "outputs": [],
   "source": [
    "import pandas as pd\n",
    "import networkx as nx\n",
    "import plotly.plotly as py \n",
    "import plotly.graph_objs as go"
   ]
  },
  {
   "cell_type": "code",
   "execution_count": 72,
   "metadata": {
    "collapsed": true
   },
   "outputs": [],
   "source": [
    "edge_list = pd.read_csv(\"edge.csv\")\n",
    "node_list = pd.read_csv(\"node.csv\")\n",
    "node_size_list = []\n",
    "node_color_list = []\n",
    "edge_width_list = []\n",
    "x0 = []\n",
    "y0 = []\n",
    "x1 = []\n",
    "y1 = []"
   ]
  },
  {
   "cell_type": "code",
   "execution_count": 73,
   "metadata": {
    "collapsed": true
   },
   "outputs": [],
   "source": [
    "G = nx.DiGraph()"
   ]
  },
  {
   "cell_type": "code",
   "execution_count": 74,
   "metadata": {
    "collapsed": true
   },
   "outputs": [],
   "source": [
    "for number,r,color in node_list.values:\n",
    "    G.add_node(number,size=r,color=color)\n",
    "    node_size_list.append(r)\n",
    "    node_color_list.append(color)"
   ]
  },
  {
   "cell_type": "code",
   "execution_count": 75,
   "metadata": {
    "collapsed": true
   },
   "outputs": [],
   "source": [
    "for edge_from,edge_to,weight in edge_list.values:\n",
    "    G.add_edge(edge_from,edge_to,weight=weight)\n",
    "    edge_width_list.append(weight)"
   ]
  },
  {
   "cell_type": "code",
   "execution_count": 76,
   "metadata": {
    "collapsed": true
   },
   "outputs": [],
   "source": [
    "pos = nx.spring_layout(G)"
   ]
  },
  {
   "cell_type": "code",
   "execution_count": 77,
   "metadata": {},
   "outputs": [
    {
     "data": {
      "text/plain": [
       "{1: array([ 0.8698594 , -0.06045144]),\n",
       " 2: array([0.10988883, 0.80389549]),\n",
       " 3: array([-1.        , -0.07953592]),\n",
       " 4: array([ 0.02025177, -0.66390813])}"
      ]
     },
     "execution_count": 77,
     "metadata": {},
     "output_type": "execute_result"
    }
   ],
   "source": [
    "pos"
   ]
  },
  {
   "cell_type": "code",
   "execution_count": 78,
   "metadata": {
    "collapsed": true
   },
   "outputs": [],
   "source": [
    "node = go.Scatter( \n",
    "    x=[], \n",
    "    y=[], \n",
    "    mode='markers',\n",
    "    marker=dict(\n",
    "        size=node_size_list,\n",
    "        color = node_color_list\n",
    "    ),\n",
    ")"
   ]
  },
  {
   "cell_type": "code",
   "execution_count": 79,
   "metadata": {
    "collapsed": true
   },
   "outputs": [],
   "source": [
    "for item in pos:\n",
    "    node[\"x\"] += tuple([pos[item][0]])\n",
    "    node[\"y\"] += tuple([pos[item][1]])"
   ]
  },
  {
   "cell_type": "code",
   "execution_count": 80,
   "metadata": {},
   "outputs": [
    {
     "data": {
      "text/plain": [
       "Scatter({\n",
       "    'marker': {'color': ['red', 'blue', 'yellow', 'green'], 'size': [20, 40, 60, 50]},\n",
       "    'mode': 'markers',\n",
       "    'x': [0.869859403123614, 0.10988882755262115, -1.0, 0.020251769323764553],\n",
       "    'y': [-0.060451444701840135, 0.8038954935843592, -0.07953591512128404,\n",
       "          -0.6639081337612351]\n",
       "})"
      ]
     },
     "execution_count": 80,
     "metadata": {},
     "output_type": "execute_result"
    }
   ],
   "source": [
    "node"
   ]
  },
  {
   "cell_type": "code",
   "execution_count": 81,
   "metadata": {},
   "outputs": [
    {
     "name": "stdout",
     "output_type": "stream",
     "text": [
      "(1, 2.0)\n",
      "(1, 4.0)\n",
      "(2, 3.0)\n",
      "(3, 4.0)\n",
      "(4, 2.0)\n"
     ]
    }
   ],
   "source": [
    "for item in G.edges:\n",
    "    print(item)\n",
    "    x0.append(pos[item[0]][0])\n",
    "    y0.append(pos[item[0]][1])\n",
    "    x1.append(pos[item[1]][0])\n",
    "    y1.append(pos[item[1]][1])"
   ]
  },
  {
   "cell_type": "code",
   "execution_count": 84,
   "metadata": {
    "collapsed": true
   },
   "outputs": [],
   "source": [
    "fig = go.Figure(\n",
    "    data=[node],\n",
    "    layout=go.Layout(\n",
    "        annotations = [\n",
    "            dict(ax=x0[i], ay=y0[i], axref='x', ayref='y',\n",
    "                x=x1[i], y=y1[i], xref='x', yref='y',arrowwidth=edge_width_list[i]) for i in range(0, len(x0))\n",
    "        ], \n",
    "        xaxis=dict(showgrid=False, zeroline=False, showticklabels=False),\n",
    "        yaxis=dict(showgrid=False, zeroline=False, showticklabels=False))\n",
    "    \n",
    ") "
   ]
  },
  {
   "cell_type": "code",
   "execution_count": 85,
   "metadata": {},
   "outputs": [
    {
     "data": {
      "text/html": [
       "<iframe id=\"igraph\" scrolling=\"no\" style=\"border:none;\" seamless=\"seamless\" src=\"https://plot.ly/~taketiyo/71.embed\" height=\"525px\" width=\"100%\"></iframe>"
      ],
      "text/plain": [
       "<plotly.tools.PlotlyDisplay object>"
      ]
     },
     "execution_count": 85,
     "metadata": {},
     "output_type": "execute_result"
    }
   ],
   "source": [
    "py.iplot(fig)"
   ]
  },
  {
   "cell_type": "code",
   "execution_count": null,
   "metadata": {
    "collapsed": true
   },
   "outputs": [],
   "source": []
  }
 ],
 "metadata": {
  "kernelspec": {
   "display_name": "Python 3",
   "language": "python",
   "name": "python3"
  },
  "language_info": {
   "codemirror_mode": {
    "name": "ipython",
    "version": 3
   },
   "file_extension": ".py",
   "mimetype": "text/x-python",
   "name": "python",
   "nbconvert_exporter": "python",
   "pygments_lexer": "ipython3",
   "version": "3.6.6"
  }
 },
 "nbformat": 4,
 "nbformat_minor": 2
}
